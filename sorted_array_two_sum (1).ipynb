{
  "nbformat": 4,
  "nbformat_minor": 0,
  "metadata": {
    "colab": {
      "provenance": []
    },
    "kernelspec": {
      "name": "python3",
      "display_name": "Python 3"
    },
    "language_info": {
      "name": "python"
    }
  },
  "cells": [
    {
      "cell_type": "code",
      "execution_count": 4,
      "metadata": {
        "id": "5OnRrtP6VR9W"
      },
      "outputs": [],
      "source": [
        "\n",
        "\n",
        "def pair_sum_sorted(nums, target):\n",
        "    # Initialize two pointers: left at start, right at end\n",
        "    left = 0\n",
        "    right = len(nums) - 1\n",
        "\n",
        "    # Continue until the two pointers meet\n",
        "    while left < right:\n",
        "        current_sum = nums[left] + nums[right]  # Calculate the sum of elements at left and right pointers\n",
        "\n",
        "        if current_sum == target:\n",
        "            # If the current sum matches the target, return the indices\n",
        "            return [left, right]\n",
        "        elif current_sum < target:\n",
        "            # If the current sum is smaller than the target, move left pointer to right to increase sum\n",
        "            left += 1\n",
        "        else:\n",
        "            # If the current sum is greater than the target, move right pointer to left to decrease sum\n",
        "            right -= 1\n",
        "\n",
        "    # If no valid pair is found, return an empty list\n",
        "    return []\n",
        "\n"
      ]
    }
  ]
}