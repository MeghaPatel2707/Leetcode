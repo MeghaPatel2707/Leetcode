{
  "nbformat": 4,
  "nbformat_minor": 0,
  "metadata": {
    "colab": {
      "provenance": []
    },
    "kernelspec": {
      "name": "python3",
      "display_name": "Python 3"
    },
    "language_info": {
      "name": "python"
    }
  },
  "cells": [
    {
      "cell_type": "code",
      "execution_count": 3,
      "metadata": {
        "id": "5OnRrtP6VR9W"
      },
      "outputs": [],
      "source": [
        "\n",
        "\n",
        "def pair_sum_sorted(nums,target):\n",
        "    # Write your code here\n",
        "    left = 0\n",
        "    right = len(nums) - 1\n",
        "\n",
        "    while left < right:\n",
        "        current_sum = nums[left] + nums[right]\n",
        "        if current_sum == target:\n",
        "            return [left,right]\n",
        "        elif current_sum < target:\n",
        "            left +=1\n",
        "        else:\n",
        "            right -= 1\n",
        "\n",
        "    return []\n",
        "\n"
      ]
    }
  ]
}